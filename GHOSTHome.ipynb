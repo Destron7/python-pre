{
 "cells": [
  {
   "cell_type": "markdown",
   "metadata": {},
   "source": [
    "# Data Types "
   ]
  },
  {
   "cell_type": "code",
   "execution_count": null,
   "metadata": {},
   "outputs": [],
   "source": [
    "x=1\n",
    "print(type(x))b\n"
   ]
  },
  {
   "cell_type": "code",
   "execution_count": null,
   "metadata": {},
   "outputs": [],
   "source": [
    "x = True\n",
    "print(type(x))"
   ]
  },
  {
   "cell_type": "code",
   "execution_count": null,
   "metadata": {},
   "outputs": [],
   "source": [
    "x = 2 + 8j\n",
    "print(type(x))"
   ]
  },
  {
   "cell_type": "code",
   "execution_count": null,
   "metadata": {},
   "outputs": [],
   "source": [
    "x = \"Dev\"\n",
    "print(type(x))"
   ]
  },
  {
   "cell_type": "code",
   "execution_count": null,
   "metadata": {},
   "outputs": [],
   "source": [
    "x = [1,2,3]\n",
    "print(type(x))"
   ]
  },
  {
   "cell_type": "code",
   "execution_count": null,
   "metadata": {},
   "outputs": [],
   "source": [
    "x = (1,2,3)\n",
    "print(type(x))"
   ]
  },
  {
   "cell_type": "code",
   "execution_count": null,
   "metadata": {},
   "outputs": [],
   "source": [
    "x= {1,2,3}\n",
    "print(type(x))"
   ]
  },
  {
   "cell_type": "code",
   "execution_count": null,
   "metadata": {},
   "outputs": [],
   "source": [
    "x = None\n",
    "print(type(x))"
   ]
  },
  {
   "cell_type": "code",
   "execution_count": null,
   "metadata": {},
   "outputs": [],
   "source": [
    "x = {1:\"Dev\", 2:\"Khushi\"}\n",
    "print(type(x))"
   ]
  },
  {
   "cell_type": "markdown",
   "metadata": {},
   "source": [
    "# Address of Variable\n",
    "\n",
    "## Defination of Variable\n",
    "it'a a container in the Computer memory wher you can store a python object.\n",
    "\n",
    "The value between -5 to 256 is stored in the same address space while any value greater or smaller rather of same magnitude gives different variable Id.\n",
    "\n",
    "## Operator"
   ]
  },
  {
   "cell_type": "code",
   "execution_count": null,
   "metadata": {},
   "outputs": [],
   "source": [
    "a = 1000\n",
    "b = 1000\n",
    "\n",
    "print(id(a))\n",
    "print(id(b))"
   ]
  },
  {
   "cell_type": "code",
   "execution_count": null,
   "metadata": {},
   "outputs": [],
   "source": [
    "a = 100\n",
    "print(id(a))\n",
    "a = \"Dev\"\n",
    "print(id(a))\n",
    "a = 100\n",
    "print(id(a))"
   ]
  },
  {
   "cell_type": "markdown",
   "metadata": {},
   "source": [
    "# Commenting\n",
    "\n",
    "#--> For single line commenting.  \n",
    "\"\"\"    \"\"\", ''' '''--> MultiLine Comment.\n",
    "\n"
   ]
  },
  {
   "cell_type": "code",
   "execution_count": null,
   "metadata": {},
   "outputs": [],
   "source": [
    "import this"
   ]
  },
  {
   "cell_type": "code",
   "execution_count": null,
   "metadata": {},
   "outputs": [],
   "source": [
    "dir(__builtins__)"
   ]
  },
  {
   "cell_type": "code",
   "execution_count": null,
   "metadata": {},
   "outputs": [],
   "source": [
    "a = 5\n",
    "a"
   ]
  },
  {
   "cell_type": "markdown",
   "metadata": {},
   "source": [
    "print functions take string arguments and outputs it on Console."
   ]
  },
  {
   "cell_type": "code",
   "execution_count": null,
   "metadata": {},
   "outputs": [],
   "source": [
    " print(\"Dev\")"
   ]
  },
  {
   "cell_type": "code",
   "execution_count": null,
   "metadata": {},
   "outputs": [],
   "source": [
    "for _ in range(1,11):\n",
    "    if _ == 5:\n",
    "        print(_)"
   ]
  },
  {
   "cell_type": "code",
   "execution_count": null,
   "metadata": {},
   "outputs": [],
   "source": [
    "name = \"Python\"\n",
    "age = 24\n",
    "txt = \"Name: {} Age: {}\"\n",
    "print(\"Name:\",name,\"Age:\",age)\n",
    "print(txt.format(name,age))"
   ]
  },
  {
   "cell_type": "code",
   "execution_count": null,
   "metadata": {},
   "outputs": [],
   "source": [
    "print(\"What's your name?\")"
   ]
  },
  {
   "cell_type": "code",
   "execution_count": null,
   "metadata": {},
   "outputs": [],
   "source": [
    "print('What\\'s your name')"
   ]
  },
  {
   "cell_type": "code",
   "execution_count": null,
   "metadata": {},
   "outputs": [],
   "source": [
    "name = \"Dev\"\n",
    "sport = \"Football\"\n",
    "print(f\"My name is {name}, I Love {sport}\")"
   ]
  },
  {
   "cell_type": "code",
   "execution_count": null,
   "metadata": {},
   "outputs": [],
   "source": [
    "print(\"Bob\",\"Charlie\",\"Jerry\")"
   ]
  },
  {
   "cell_type": "code",
   "execution_count": null,
   "metadata": {},
   "outputs": [],
   "source": [
    "print('What\\'s your name \n",
    "      python')0"
   ]
  },
  {
   "cell_type": "code",
   "execution_count": null,
   "metadata": {},
   "outputs": [],
   "source": [
    "\n",
    "print(r\"https://www.w3schools.com/python/python_strings_format.asp\")"
   ]
  },
  {
   "cell_type": "code",
   "execution_count": null,
   "metadata": {},
   "outputs": [],
   "source": [
    "# print(\"start\",end=\"end\")\n",
    "print(\"start\",end=\"Go\")"
   ]
  },
  {
   "cell_type": "code",
   "execution_count": null,
   "metadata": {},
   "outputs": [],
   "source": [
    "help(print)"
   ]
  },
  {
   "cell_type": "code",
   "execution_count": null,
   "metadata": {},
   "outputs": [],
   "source": [
    "x = 500\n",
    "print(f\"The value of X is {x}\")\n",
    "print(\"The value of X is\",x)"
   ]
  },
  {
   "cell_type": "code",
   "execution_count": null,
   "metadata": {},
   "outputs": [],
   "source": [
    "s = int(input(\"Enter value for s: \"))\n",
    "s*100\n"
   ]
  },
  {
   "cell_type": "code",
   "execution_count": null,
   "metadata": {},
   "outputs": [],
   "source": [
    "x = input(\"Enter X: \")\n",
    "print(type(x))"
   ]
  },
  {
   "cell_type": "code",
   "execution_count": null,
   "metadata": {},
   "outputs": [],
   "source": [
    "x = bool(input(\"Sun rises from East: \"))\n",
    "type(x)"
   ]
  },
  {
   "cell_type": "code",
   "execution_count": null,
   "metadata": {},
   "outputs": [],
   "source": [
    "x = 30\n",
    "s = str(x)\n",
    "type(s)"
   ]
  },
  {
   "cell_type": "code",
   "execution_count": null,
   "metadata": {},
   "outputs": [],
   "source": [
    "s"
   ]
  },
  {
   "cell_type": "code",
   "execution_count": null,
   "metadata": {},
   "outputs": [],
   "source": [
    "2/2"
   ]
  },
  {
   "cell_type": "code",
   "execution_count": null,
   "metadata": {},
   "outputs": [],
   "source": [
    "7%2 "
   ]
  },
  {
   "cell_type": "code",
   "execution_count": null,
   "metadata": {},
   "outputs": [],
   "source": [
    "5**2"
   ]
  },
  {
   "cell_type": "code",
   "execution_count": null,
   "metadata": {},
   "outputs": [],
   "source": [
    "45//7"
   ]
  },
  {
   "cell_type": "code",
   "execution_count": null,
   "metadata": {},
   "outputs": [],
   "source": [
    "40 * 20 / 10 +3"
   ]
  },
  {
   "cell_type": "markdown",
   "metadata": {},
   "source": [
    "# BEDMAS\n",
    "\n",
    "Brackets  \n",
    "Exponential  \n",
    "Division  \n",
    "Multiplication  \n",
    "Addition  \n",
    "Subtraction"
   ]
  },
  {
   "cell_type": "markdown",
   "metadata": {},
   "source": [
    "# LOGICAL OPERATOR\n",
    "\n",
    "## AND\n",
    "X and Y --> returns x if x is false, y otherwise\n",
    "\n",
    "## OR\n",
    "X or Y --> returns y if x is false, x otherwise\n",
    "\n",
    "## NOT\n",
    "not X --> returns x if x is true, else returns false otherwise."
   ]
  },
  {
   "cell_type": "code",
   "execution_count": null,
   "metadata": {},
   "outputs": [],
   "source": [
    "6 and 5"
   ]
  },
  {
   "cell_type": "code",
   "execution_count": null,
   "metadata": {},
   "outputs": [],
   "source": [
    "3 and 4\n"
   ]
  },
  {
   "cell_type": "code",
   "execution_count": null,
   "metadata": {},
   "outputs": [],
   "source": [
    "9 and 900"
   ]
  },
  {
   "cell_type": "code",
   "execution_count": null,
   "metadata": {},
   "outputs": [],
   "source": [
    "0 and 5"
   ]
  },
  {
   "cell_type": "code",
   "execution_count": null,
   "metadata": {},
   "outputs": [],
   "source": [
    "900 and 0"
   ]
  },
  {
   "cell_type": "code",
   "execution_count": null,
   "metadata": {},
   "outputs": [],
   "source": [
    "1 or 0"
   ]
  },
  {
   "cell_type": "code",
   "execution_count": null,
   "metadata": {},
   "outputs": [],
   "source": [
    "None and 500"
   ]
  },
  {
   "cell_type": "code",
   "execution_count": null,
   "metadata": {},
   "outputs": [],
   "source": [
    "9 and 900"
   ]
  },
  {
   "cell_type": "code",
   "execution_count": null,
   "metadata": {},
   "outputs": [],
   "source": [
    "9 or 900"
   ]
  },
  {
   "cell_type": "code",
   "execution_count": null,
   "metadata": {},
   "outputs": [],
   "source": [
    "900 or 9"
   ]
  },
  {
   "cell_type": "code",
   "execution_count": null,
   "metadata": {},
   "outputs": [],
   "source": [
    "1 or 0"
   ]
  },
  {
   "cell_type": "code",
   "execution_count": null,
   "metadata": {},
   "outputs": [],
   "source": [
    "0 or 1\n"
   ]
  },
  {
   "cell_type": "code",
   "execution_count": null,
   "metadata": {},
   "outputs": [],
   "source": [
    "not 9"
   ]
  },
  {
   "cell_type": "code",
   "execution_count": null,
   "metadata": {},
   "outputs": [],
   "source": [
    "not 0"
   ]
  },
  {
   "cell_type": "code",
   "execution_count": null,
   "metadata": {},
   "outputs": [],
   "source": [
    "not 1"
   ]
  },
  {
   "cell_type": "markdown",
   "metadata": {},
   "source": [
    "# OPERATOR PRECEDENCE\n",
    "    Level      Operator       Associativity\n",
    "      1           **              R--L\n",
    "      2         +ve,-ve           L--R\n",
    "      3        *,@,/,//,%         L--R\n",
    "      4           +,-             L--R\n",
    "      5        in, not in         \n",
    "             <,>,<=,>=,==,!=      L--R\n",
    "      6          not x            L--R\n",
    "      7           and             L--R\n",
    "      8           or              L--R\n",
    "      \n"
   ]
  },
  {
   "cell_type": "code",
   "execution_count": null,
   "metadata": {},
   "outputs": [],
   "source": [
    "x=6\n",
    "not x"
   ]
  },
  {
   "cell_type": "markdown",
   "metadata": {},
   "source": [
    "False values are None, False, 0, Empty String."
   ]
  },
  {
   "cell_type": "code",
   "execution_count": null,
   "metadata": {},
   "outputs": [],
   "source": [
    "x = \"\"\n",
    "not (not x)"
   ]
  },
  {
   "cell_type": "code",
   "execution_count": null,
   "metadata": {},
   "outputs": [],
   "source": [
    "'p' not in \"python\""
   ]
  },
  {
   "cell_type": "code",
   "execution_count": null,
   "metadata": {},
   "outputs": [],
   "source": [
    "'Z' not in \"python\""
   ]
  },
  {
   "cell_type": "code",
   "execution_count": null,
   "metadata": {},
   "outputs": [],
   "source": [
    "pwd"
   ]
  },
  {
   "cell_type": "code",
   "execution_count": null,
   "metadata": {},
   "outputs": [],
   "source": [
    "\"\"\"\n",
    "    WAP TO FIND THE AREA OF TRIANGLE?\n",
    "\"\"\"\n",
    "#ENTER THREE SIDE OF TRIANGLE\n",
    "a = float(input(\"ENTER SIDE ONE: \"))\n",
    "b = float(input(\"ENTER SIDE TWO: \"))\n",
    "c = float(input(\"ENTER SIDE THREE: \"))\n",
    "\n",
    "#CALCULATE SEMIPERIMETER\n",
    "s = (a+b+c)/2\n",
    "\n",
    "#CALCULATE AREA\n",
    "area = Math.trunc((s*(s-a)*(s-b)*(s-c))**1/2)\n",
    "\n",
    "print(f\"AREA OF TRAINGLE IS: {area}\")\n"
   ]
  },
  {
   "cell_type": "code",
   "execution_count": null,
   "metadata": {},
   "outputs": [],
   "source": [
    "import calendar"
   ]
  },
  {
   "cell_type": "code",
   "execution_count": null,
   "metadata": {},
   "outputs": [],
   "source": [
    "help(calendar)"
   ]
  },
  {
   "cell_type": "markdown",
   "metadata": {},
   "source": [
    "#  UNIT 2:\n",
    "\n",
    "# CONDITIONAL & ITERATION STATMENTS\n",
    "\n"
   ]
  },
  {
   "cell_type": "markdown",
   "metadata": {},
   "source": [
    "## CONTROL STATEMENT\n",
    "Simple If statement checks if a condtion is true and executes the block of code inside the is statement."
   ]
  },
  {
   "cell_type": "code",
   "execution_count": null,
   "metadata": {},
   "outputs": [],
   "source": [
    "x = int(input(\"ENTER VALUE OF X: \"))\n",
    "if x>0:\n",
    "    print(x,\"> 0\")\n",
    "elif x==0:\n",
    "    print(\"ZERO\")\n",
    "else:\n",
    "    print(x,\"< 0\")"
   ]
  },
  {
   "cell_type": "markdown",
   "metadata": {},
   "source": [
    "Elif checks the multiple condiotion in order and executed the block corresponding to the first true condition."
   ]
  },
  {
   "cell_type": "markdown",
   "metadata": {},
   "source": [
    "### Nested if\n",
    "\n",
    "    Nested if are the if statements inside other if statements."
   ]
  },
  {
   "cell_type": "code",
   "execution_count": null,
   "metadata": {},
   "outputs": [],
   "source": [
    "for _ in range(6,1,-1):\n",
    "    print(_)"
   ]
  },
  {
   "cell_type": "markdown",
   "metadata": {},
   "source": [
    "# Conda List"
   ]
  },
  {
   "cell_type": "code",
   "execution_count": null,
   "metadata": {},
   "outputs": [],
   "source": [
    "conda list"
   ]
  },
  {
   "cell_type": "code",
   "execution_count": null,
   "metadata": {},
   "outputs": [],
   "source": [
    "%%writefile large3.py\n",
    "\n",
    "num1= float(input(\"ENTER NUMBER ONE: \"))\n",
    "num2= float(input(\"ENTER NUMBER TWO: \"))\n",
    "num3= float(input(\"ENTER NUMBER THREE: \"))\n",
    "\n",
    "if num1>num2:\n",
    "    if num1>num3:\n",
    "        print(f\"LARGEST NUMBER IS: {num1}\")\n",
    "    elif num3>num1:\n",
    "        print(f\"LARGEST NUMBER IS: {num3}\")\n",
    "elif num2>num3:\n",
    "    if num2>num1:\n",
    "        print(f\"LARGEST NUMBER IS: {num2}\")\n",
    "    elif num1>num2:\n",
    "        print(f\"LARGEST NUMBER IS: {num1}\")\n",
    "if num3>num1:\n",
    "    if num3>num2:\n",
    "        print(f\"LARGEST NUMBER IS: {num3}\")\n",
    "    elif num2>num3:\n",
    "        print(f\"LARGEST NUMBER IS: {num2}\")\n",
    "if num1==num2==num3:\n",
    "    print(f\"ALL NUMBERS ARE EQUAL TO {num1}\")"
   ]
  },
  {
   "cell_type": "markdown",
   "metadata": {},
   "source": [
    "# FOR LOOP "
   ]
  },
  {
   "cell_type": "code",
   "execution_count": null,
   "metadata": {},
   "outputs": [],
   "source": [
    "for _ in \"python\":\n",
    "    print(_,end=\"\")"
   ]
  },
  {
   "cell_type": "code",
   "execution_count": null,
   "metadata": {},
   "outputs": [],
   "source": [
    "for _ in range(0,11,2):\n",
    "    print(_,end=\" \")"
   ]
  },
  {
   "cell_type": "code",
   "execution_count": null,
   "metadata": {},
   "outputs": [],
   "source": [
    "pwd"
   ]
  },
  {
   "cell_type": "markdown",
   "metadata": {},
   "source": [
    "If there is any break statement in else block then the else part won't run."
   ]
  },
  {
   "cell_type": "code",
   "execution_count": null,
   "metadata": {},
   "outputs": [],
   "source": [
    "for _ in range(1,5):\n",
    "    if type(_)!=int:\n",
    "        print(_,end=\"\")\n",
    "    else:\n",
    "        print(\"LOOP BROKE\")\n",
    "        break"
   ]
  },
  {
   "cell_type": "code",
   "execution_count": null,
   "metadata": {},
   "outputs": [],
   "source": [
    "for i in [1,2,3,4]:\n",
    "      print(i,end=\" \")"
   ]
  },
  {
   "cell_type": "markdown",
   "metadata": {},
   "source": [
    "## RANGE "
   ]
  },
  {
   "cell_type": "code",
   "execution_count": null,
   "metadata": {},
   "outputs": [],
   "source": [
    "for i in range(1,11):\n",
    "    print(i)"
   ]
  },
  {
   "cell_type": "code",
   "execution_count": null,
   "metadata": {},
   "outputs": [],
   "source": [
    "list(range(1,11))"
   ]
  },
  {
   "cell_type": "code",
   "execution_count": null,
   "metadata": {},
   "outputs": [],
   "source": [
    "list(range(-1,5))"
   ]
  },
  {
   "cell_type": "code",
   "execution_count": null,
   "metadata": {},
   "outputs": [],
   "source": [
    "list(range(-4,5))"
   ]
  },
  {
   "cell_type": "code",
   "execution_count": null,
   "metadata": {},
   "outputs": [],
   "source": [
    "list(range(1,0))"
   ]
  },
  {
   "cell_type": "code",
   "execution_count": null,
   "metadata": {},
   "outputs": [],
   "source": [
    "list(range(0,1))"
   ]
  },
  {
   "cell_type": "code",
   "execution_count": null,
   "metadata": {},
   "outputs": [],
   "source": [
    "type(range)"
   ]
  },
  {
   "cell_type": "code",
   "execution_count": null,
   "metadata": {},
   "outputs": [],
   "source": [
    "type(type)"
   ]
  },
  {
   "cell_type": "code",
   "execution_count": null,
   "metadata": {},
   "outputs": [],
   "source": [
    "for _ in range(5,0,-1):\n",
    "    print(_,end=\" \")"
   ]
  },
  {
   "cell_type": "code",
   "execution_count": null,
   "metadata": {},
   "outputs": [],
   "source": [
    "list(range(2,20,2))"
   ]
  },
  {
   "cell_type": "markdown",
   "metadata": {},
   "source": [
    "# WHILE LOOP "
   ]
  },
  {
   "cell_type": "code",
   "execution_count": null,
   "metadata": {},
   "outputs": [],
   "source": [
    "count=0\n",
    "while count<6:\n",
    "    print(count)\n",
    "    count+=1"
   ]
  },
  {
   "cell_type": "code",
   "execution_count": null,
   "metadata": {},
   "outputs": [],
   "source": [
    "for i in range(5):\n",
    "    pass"
   ]
  },
  {
   "cell_type": "code",
   "execution_count": null,
   "metadata": {},
   "outputs": [],
   "source": [
    "for i in range(3):\n",
    "    ..."
   ]
  },
  {
   "cell_type": "code",
   "execution_count": null,
   "metadata": {},
   "outputs": [],
   "source": [
    "sum=0\n",
    "for _ in range(21):\n",
    "    sum+=_\n",
    "sum"
   ]
  },
  {
   "cell_type": "code",
   "execution_count": null,
   "metadata": {},
   "outputs": [],
   "source": [
    "user_inp = int(input(\"ENTER NUMBER TO GET TABLE OF: \"))\n",
    "for _ in range(1,11):\n",
    "    print(f\"{user_inp} * {_} = {user_inp*_}\")"
   ]
  },
  {
   "cell_type": "code",
   "execution_count": null,
   "metadata": {},
   "outputs": [],
   "source": [
    "\"\"\"\n",
    "    WAP TO FIND FACTORIAL OF NUMBER FROM USER.\n",
    "\"\"\"\n",
    "\n",
    "user_inp = int(input(\"ENTER THE NUBER TO FIND THE FACTORIAL: \"))\n",
    "if user_inp<0:\n",
    "    print(\"FACTORIAL NOT PRESENT FOR NEGATIVE INTEGERS\")\n",
    "elif user_inp==0:\n",
    "    print(f\"0 != {1}\")\n",
    "else:\n",
    "    pro=1\n",
    "    for _ in range(1,user_inp+1):\n",
    "        pro*=_\n",
    "    print(f\"{user_inp}! = {pro}\")"
   ]
  },
  {
   "cell_type": "code",
   "execution_count": null,
   "metadata": {},
   "outputs": [],
   "source": [
    "size = int(input(\"ENTER LIMIT OF FIBONACCI: \" ))\n",
    "a=1\n",
    "b=1\n",
    "print(a,end=\" \")\n",
    "print(b,end=\" \")\n",
    "for _ in range(2,size):\n",
    "    sum=a+b\n",
    "    print(sum,end=\" \")\n",
    "    a=b\n",
    "    b=sum"
   ]
  },
  {
   "cell_type": "code",
   "execution_count": null,
   "metadata": {},
   "outputs": [],
   "source": [
    "for i in range(1,6):\n",
    "    for j in range(i):\n",
    "        print(\"* \",end=\"\")\n",
    "    print(\"\\n\")"
   ]
  },
  {
   "cell_type": "code",
   "execution_count": null,
   "metadata": {},
   "outputs": [],
   "source": [
    "n = int(input(\"ENTER THE NUMBER FOR ITERATION: \"))\n",
    "for i in range(1,n+1):\n",
    "    for j in range(1,i+1):\n",
    "        if i%2==0:\n",
    "            print(\"# \",end=\" \")\n",
    "        else: \n",
    "            print(\"*  \",end=\"\")\n",
    "    print(\"\\n\")"
   ]
  },
  {
   "cell_type": "code",
   "execution_count": null,
   "metadata": {},
   "outputs": [],
   "source": [
    "\"\"\"\n",
    "    ARMSTRONG NUMBER: \n",
    "\"\"\"\n",
    "\n",
    "num = int(input(\"ENTER THE NUMBER: \"))\n",
    "temp=num\n",
    "count=total=0\n",
    "while temp>0:\n",
    "    temp//=10\n",
    "    count+=1\n",
    "\n",
    "temp=num\n",
    "while temp>0:\n",
    "    digit=temp%10\n",
    "    pro=1\n",
    "    for i in range(count):\n",
    "        pro*=digit\n",
    "    total+=pro\n",
    "    temp//=10\n",
    "\n",
    "if total==num:\n",
    "    print(\"ARMSTRONG NUMBER!!\")\n",
    "else:\n",
    "    print(\"NOT ARMSTRONG!!\")"
   ]
  },
  {
   "cell_type": "markdown",
   "metadata": {},
   "source": [
    "# CONCEPT SWITCHING IS IMPORTANT "
   ]
  },
  {
   "cell_type": "code",
   "execution_count": null,
   "metadata": {},
   "outputs": [],
   "source": [
    "import math as m\n",
    "lower_range = int(input(\"ENTER LOWER RANGE: \"))\n",
    "upper_range = int(input(\"ENTER UPPER RANGE: \"))\n",
    "list_prime = list()\n",
    "factor=0\n",
    "for i in range(lower_range, upper_range+1):\n",
    "    factor=0\n",
    "    for j in range(2,int(m.sqrt(i))+1):\n",
    "        if i%j==0:\n",
    "            factor+=1\n",
    "    if factor==0:\n",
    "#         print(i,end=\" \")\n",
    "        list_prime.append(i)\n",
    "print(list_prime)"
   ]
  },
  {
   "cell_type": "code",
   "execution_count": null,
   "metadata": {},
   "outputs": [],
   "source": [
    "whos"
   ]
  },
  {
   "cell_type": "markdown",
   "metadata": {},
   "source": [
    "# FUNCTIONS\n",
    "\n",
    "Function takes an input performs somputation & prodices output.\n",
    "\n",
    "## User Defined Fucntion\n",
    "## Builtin Functions\n",
    "## Anonymous"
   ]
  },
  {
   "cell_type": "code",
   "execution_count": null,
   "metadata": {},
   "outputs": [],
   "source": [
    "type(dir(__builtins__))"
   ]
  },
  {
   "cell_type": "code",
   "execution_count": null,
   "metadata": {},
   "outputs": [],
   "source": [
    "def greet():\n",
    "    print(\"HELLO FUN"
   ]
  },
  {
   "cell_type": "code",
   "execution_count": null,
   "metadata": {},
   "outputs": [],
   "source": [
    "def greet():\n",
    "    print(\"HELLO FUNCTIONS\")\n",
    "    \n",
    "greet()"
   ]
  },
  {
   "cell_type": "code",
   "execution_count": null,
   "metadata": {},
   "outputs": [],
   "source": [
    "whos"
   ]
  },
  {
   "cell_type": "code",
   "execution_count": null,
   "metadata": {},
   "outputs": [],
   "source": [
    "def addition(x=0,y=0):\n",
    "    return int(x+y)\n",
    "\n",
    "print(addition(y=3,x=4))"
   ]
  },
  {
   "cell_type": "code",
   "execution_count": null,
   "metadata": {},
   "outputs": [],
   "source": [
    "#DOCSTRING\n",
    "\"\"\"\n",
    "    always use DOCSTRINGS where necessary.\n",
    "\"\"\""
   ]
  },
  {
   "cell_type": "markdown",
   "metadata": {},
   "source": [
    "# ARGUMENTS:\n",
    "\n",
    "## POSITIONAL ARGS\n",
    "\n",
    "they are passed to a function in the order in which they are defined.\n",
    "\n",
    "## DEFAULT ARGS\n",
    "\n",
    "they are the arguments with "
   ]
  },
  {
   "cell_type": "code",
   "execution_count": null,
   "metadata": {},
   "outputs": [],
   "source": [
    "def greetings(name=\"dev\",greet=\"Hello\"):\n",
    "    return greet +\" \"+name\n",
    "\n",
    "# greetings(greet=\"Yom Yom\", name = \"Nigga\")\n",
    "greetings()"
   ]
  },
  {
   "cell_type": "code",
   "execution_count": null,
   "metadata": {},
   "outputs": [],
   "source": [
    "\"a\"+\"bc\""
   ]
  },
  {
   "cell_type": "code",
   "execution_count": null,
   "metadata": {},
   "outputs": [],
   "source": [
    "if(1,2):\n",
    "print(\"foo\")"
   ]
  },
  {
   "cell_type": "code",
   "execution_count": null,
   "metadata": {},
   "outputs": [],
   "source": [
    "  if(1,2):\n",
    "print(\"foo\")b"
   ]
  },
  {
   "cell_type": "code",
   "execution_count": null,
   "metadata": {},
   "outputs": [],
   "source": [
    "def reduceToFrac(a,b):\n",
    "    factor = 1\n",
    "    for i in range(2,int(a/2)):\n",
    "        factFound=False\n",
    "        if int(a)%i==0 & int(b)%i==0:\n",
    "            factor=i\n",
    "            \n",
    "    \n",
    "    if a//factor==0 & b//factor==0:\n",
    "        print(f\"{a}/{b}\")\n",
    "    else:\n",
    "        a=a//factor\n",
    "        b=b//factor\n",
    "        print(f\"{a}/{b}\")\n",
    "    \n",
    "num = int(input(\"ENTER NUMERATOR: \"))\n",
    "deno = int(input(\"ENTER DENOMINATOR: \"))\n",
    "reduceToFrac(num, deno)\n"
   ]
  },
  {
   "cell_type": "code",
   "execution_count": null,
   "metadata": {},
   "outputs": [],
   "source": [
    "%load_ext nbtutor"
   ]
  },
  {
   "cell_type": "code",
   "execution_count": null,
   "metadata": {},
   "outputs": [],
   "source": [
    "%%nbtutor \n",
    "\n",
    "#     gcd = 1\n",
    "#     if a>b:\n",
    "#         greater = a\n",
    "#     else:\n",
    "#         greater = b\n",
    "\n",
    "def reduceToFrac(a,b):\n",
    "    gcd=1\n",
    "    for i in range(1,b+1):\n",
    "        if a%i==0 & b%i==0:\n",
    "            gcd = i\n",
    "    print(f\"{int(a/gcd)}/{int(b/gcd)}\")\n",
    "    \n",
    "\n",
    "\n",
    "num = int(input(\"ENTER NUMERATOR: \"))\n",
    "deno = int(input(\"ENTER DENOMINATOR: \"))\n",
    "reduceToFrac(num, deno)\n"
   ]
  },
  {
   "cell_type": "code",
   "execution_count": null,
   "metadata": {},
   "outputs": [],
   "source": [
    "%%nbtutor\n",
    "\n",
    "import math\n",
    "def simplify_fraction(numerator, denominator):\n",
    "    if math.gcd(numerator, denominator) == denominator:\n",
    "        return int(numerator/denominator)\n",
    "    elif math.b\n",
    "        return str(numerator) + \"/\" + str(denominator)\n",
    "    else:\n",
    "        top = numerator / math.gcd(numerator, denominator)\n",
    "        bottom = denominator / math.gcd(numerator, denominator)\n",
    "        return str(top) + \"/\" + str(bottom)\n",
    "    \n",
    "num = int(input(\"ENTER NUMERATOR: \"))\n",
    "deno = int(input(\"ENTER DENOMINATOR: \"))\n",
    "reduceToFrac(num, deno)"
   ]
  },
  {
   "cell_type": "code",
   "execution_count": null,
   "metadata": {},
   "outputs": [],
   "source": [
    "%nbtutor\n",
    "\n",
    "def reduceToFrac(nume,deno):\n",
    "    gcd = 1\n",
    "    if nume>deno:\n",
    "        greater = nume\n",
    "    else:\n",
    "        greater = deno\n",
    "    for i in range(1,greater+1):\n",
    "        if nume%i==0 & deno%==0:\n",
    "            gcd = i\n",
    "    if gcd == deno:\n",
    "        return int(nume/deno)\n",
    "    \n",
    "    "
   ]
  },
  {
   "cell_type": "code",
   "execution_count": null,
   "metadata": {},
   "outputs": [],
   "source": [
    "def fact(a,b):\n",
    "    if a>b:\n",
    "        for i in range(i,a+1):\n",
    "            if a%i==0 & b%1==0:\n",
    "                return i\n",
    "    else:\n",
    "        for i in range(i,b+1):\n",
    "            if a%i==0 & b%1==0:\n",
    "                return i\n",
    "            \n",
    "def reduceToFrac(nume,deno):\n",
    "    "
   ]
  },
  {
   "cell_type": "code",
   "execution_count": null,
   "metadata": {},
   "outputs": [],
   "source": [
    "%%nbtutor\n",
    "\n",
    "# a colarge sequence is generated by reapeatedly applying following rule to integer \n",
    "\n",
    "def colargeCounter(num):\n",
    "    counter=0\n",
    "    while(num!=1):\n",
    "        if (num%2==0):\n",
    "            num = num/2\n",
    "        else:\n",
    "            num = num*3+1\n",
    "        counter+=1\n",
    "    return counter\n",
    "\n",
    "\n",
    "num1 = int(input(\"ENTER NUMBER ONE: \"))\n",
    "num1Counter=colargeCounter(num1)\n",
    "num2 = int(input(\"ENTER NUMBER TWO: \"))\n",
    "num2Counter=colargeCounter(num2)\n",
    "\n",
    "if num1Counter>num2Counter:\n",
    "    print(f\"{num1} takes less counts\")\n",
    "else:\n",
    "    print(f\"{num2} takes less counts\")"
   ]
  },
  {
   "cell_type": "code",
   "execution_count": null,
   "metadata": {},
   "outputs": [],
   "source": [
    "%load_ext nbtutor"
   ]
  },
  {
   "cell_type": "code",
   "execution_count": null,
   "metadata": {},
   "outputs": [],
   "source": [
    "#addition of fraction\n",
    "\n",
    "num = 1\n",
    "sum = 0\n",
    "div=1\n",
    "print(f\"{num}\",end=\"+\")\n",
    "sum+=num\n",
    "for i in range(2,11):\n",
    "    div*=2\n",
    "    sum+=num\n",
    "    num/=2\n",
    "    print(f\"1/{div}\",end=\"+\")\n",
    "print(f\"={sum}\")\n",
    "print(f\"\")"
   ]
  },
  {
   "cell_type": "code",
   "execution_count": null,
   "metadata": {},
   "outputs": [],
   "source": [
    "#harshad number\n",
    "\n",
    "def harshadNum(num):\n",
    "    temp=num\n",
    "    factor=0\n",
    "    while(temp>0):\n",
    "        factor+=temp%10\n",
    "        temp//=10\n",
    "    if num%factor==0:\n",
    "        print(f\"{num} is HARSHAD BHAI NO NUMBER\")\n",
    "    else:\n",
    "        print(f\"{num} is NOT HARSHAD BHAI NO NUMBER\")\n",
    "\n",
    "num=int(input(\"ENTER NUMBER:\"))\n",
    "harshadNum(num)"
   ]
  },
  {
   "cell_type": "code",
   "execution_count": null,
   "metadata": {},
   "outputs": [],
   "source": [
    "current_time = int(input(\"ENTER CURRENT HOUR: \")) \n",
    "str = input(\"ENTER AM or PM: \")\n",
    "hrs = int(input(\"ENTER HOURS YOU WANT TO GO IN FUTURE: \"))\n",
    "\n",
    "total_hrs=current_time+hrs\n",
    "if total_hrs<=12:\n",
    "    print(f\"{total_hrs} {str}\")\n",
    "else:\n",
    "    if int(total_hrs//12)%2==0:\n",
    "        traveled_time=total_hrs%12\n",
    "    else:\n",
    "        traveled_time=total_hrs%12\n",
    "        if str==\"AM\":\n",
    "            str=\"PM\"\n",
    "        else:\n",
    "            str=\"AM\"        \n",
    "    print(f\"{traveled_time} {str}\")"
   ]
  },
  {
   "cell_type": "code",
   "execution_count": null,
   "metadata": {},
   "outputs": [],
   "source": [
    "#Happpy Number\n",
    "\"\"\"\n",
    "    starting with any postivie integer replace the number by the sum of square of the digits and repeat the process until\n",
    "    the no equals 1 or it loops endlessly.\n",
    "\"\"\"\n",
    "\n",
    "number = int(input(\"ENTER NUMBER TO CHECK: \"))\n",
    "compare = number\n",
    "isHappy = isInfiniteLoop =False\n",
    "while(not isHappy):\n",
    "    temp = number\n",
    "    sum = 0\n",
    "    while(temp>0):\n",
    "        dig = temp%10\n",
    "        temp=temp//10\n",
    "        sum = sum + (dig*dig)\n",
    "    number = sum\n",
    "    if(number == compare):\n",
    "        isHappy = False \n",
    "        break\n",
    "    if number == 1:\n",
    "        isHappy = True\n",
    "        break\n",
    "    if number == 4:\n",
    "        isInfiniteLoop = True\n",
    "        \n",
    "if isHappy:\n",
    "    print(f\"{compare} is Happy Number\")\n",
    "elif isInfiniteLoop:\n",
    "    print(f\"{compare} gives out infintie loop\")\n",
    "else:\n",
    "    print(f\"{compare} is  Not Happy Number\")"
   ]
  },
  {
   "cell_type": "code",
   "execution_count": null,
   "metadata": {},
   "outputs": [],
   "source": [
    "\"\"\"\n",
    "    RamanuJan Number\n",
    "\"\"\"\n",
    "alreadyTaken=False\n",
    "for i in range(1,21):\n",
    "    for j in range(1,21):\n",
    "        number1 = i**3 + j**3\n",
    "        for k in range(1,21):\n",
    "            if k==i or k==j:\n",
    "                continue\n",
    "            for l in range(1,21):\n",
    "                number2 = k**3+l**3\n",
    "                if l==i or l==j:\n",
    "                    continue\n",
    "                if number1 == number2:\n",
    "                    print(f\"{number1} is Ramnujan number From {i,j,k,l}\")"
   ]
  },
  {
   "cell_type": "code",
   "execution_count": null,
   "metadata": {},
   "outputs": [],
   "source": [
    "\"\"\"\n",
    "    Pascals Triangle\n",
    "\"\"\"\n",
    "\n",
    "def solution(n):\n",
    "    for i in range(n+1b):\n",
    "        print(\" \",end=\" \")\n",
    "    "
   ]
  },
  {
   "cell_type": "code",
   "execution_count": null,
   "metadata": {},
   "outputs": [],
   "source": [
    "number = int(input(\"ENTER THE NUMBER: \"))\n",
    "for i in range(11):\n",
    "    for j in range(11):\n",
    "        for k in range(11):\n",
    "            for l in range(11):\n",
    "                for m in range(11):\n",
    "                    for n in range(11):\n",
    "                        if i*j*k*l*m*n == number:\n",
    "                            print(f\"{i}*{j}*{k}*{l}*{m}*{n} = {number}\")"
   ]
  },
  {
   "cell_type": "code",
   "execution_count": null,
   "metadata": {},
   "outputs": [],
   "source": [
    "\"\"\"\n",
    "NEWTONS METHOD:\n",
    "    guess and check method of finding square root.\n",
    "\"\"\"\n",
    "import math as m\n",
    "\n",
    "number = int(input(\"ENTER THE NUMBER: \"))\n",
    "guess = number/2\n",
    "for _ in range(11):\n",
    "    if(m.sqrt(number)==guess):\n",
    "        print(f\"{guess} is Sqrt of {number}\")\n",
    "        break\n",
    "    else:\n",
    "        guess = (1/2)*(guess + number/guess)\n",
    "print(f\"{guess} is Sqrt of {number}\")"
   ]
  },
  {
   "cell_type": "code",
   "execution_count": null,
   "metadata": {},
   "outputs": [],
   "source": [
    "\"\"\"\n",
    "    TRIBONACCI SERIES:\n",
    "        0, 0 , 1, 1, 2, 4, 7, 13, 14.....\n",
    "\"\"\"\n",
    "\n",
    "a = 0\n",
    "sumNo = 0\n",
    "sumNo2 = 1\n",
    "print(a, sumNo)\n",
    "for _ in range(2,21):\n",
    "    b\n",
    "        "
   ]
  },
  {
   "cell_type": "code",
   "execution_count": null,
   "metadata": {},
   "outputs": [],
   "source": [
    "\"\"\"\n",
    "    STRONG NUMBER\n",
    "\"\"\"\n",
    "def factorialOfNum(x):\n",
    "    pro = 1\n",
    "    if x==0:\n",
    "        return pro\n",
    "    else:\n",
    "        for i in range(1,x+1):\n",
    "            pro*=i\n",
    "    return pro\n",
    "\n",
    "number = int(input(\"ENTER THE NUMBER: \"))\n",
    "temp = number\n",
    "while(temp>0):\n",
    "    dig = temp%10\n",
    "    temp = temp//10\n",
    "    global sumO\n",
    "    sumO = sumO + factorialOfNum(dig)\n",
    "\n",
    "if sumO==number:\n",
    "    print(f\"{number} IS STRONG NUMBER\")\n",
    "else:\n",
    "    print(f\"{number} IS NOT STRONG NUMBER\")"
   ]
  },
  {
   "cell_type": "code",
   "execution_count": 1,
   "metadata": {},
   "outputs": [
    {
     "name": "stdout",
     "output_type": "stream",
     "text": [
      "ENTER LOWER RANGE: 1\n",
      "ENTER UPPER RANGE: 500\n",
      "220 & 284 ARE AMICABLE PAIR\n",
      "284 & 220 ARE AMICABLE PAIR\n"
     ]
    }
   ],
   "source": [
    "\"\"\"\n",
    "    AMICABLE NUMBERS:\n",
    "        this numbers are pair of numbers whose factors and accordingly there sum is the other number in the pair.\n",
    "\"\"\"\n",
    "\n",
    "def sumOfFactors(num):\n",
    "    sumOF = 0\n",
    "    for i in range(1,num):\n",
    "        if num%i==0:\n",
    "            sumOF += i\n",
    "    return sumOF\n",
    "\n",
    "lowerRange = int(input(\"ENTER LOWER RANGE: \"))\n",
    "upperRange = int(input(\"ENTER UPPER RANGE: \"))\n",
    "for i in range(lowerRange, upperRange+1):\n",
    "    number1SumOF = sumOfFactors(i)\n",
    "    for j in range(lowerRange, upperRange+1):\n",
    "        if j==i:\n",
    "            continue\n",
    "        elif number1SumOF==j:\n",
    "            number2SumOF = sumOfFactors(j)\n",
    "            if i==number2SumOF:\n",
    "                print(f\"{i} & {j} ARE AMICABLE PAIR\")"
   ]
  },
  {
   "cell_type": "code",
   "execution_count": 8,
   "metadata": {},
   "outputs": [
    {
     "ename": "KeyboardInterrupt",
     "evalue": "Interrupted by user",
     "output_type": "error",
     "traceback": [
      "\u001b[1;31m---------------------------------------------------------------------------\u001b[0m",
      "\u001b[1;31mKeyboardInterrupt\u001b[0m                         Traceback (most recent call last)",
      "\u001b[1;32m<ipython-input-8-7bc6177bf0a5>\u001b[0m in \u001b[0;36m<module>\u001b[1;34m\u001b[0m\n\u001b[0;32m      3\u001b[0m \"\"\"\n\u001b[0;32m      4\u001b[0m \u001b[1;33m\u001b[0m\u001b[0m\n\u001b[1;32m----> 5\u001b[1;33m \u001b[0mbankBalance\u001b[0m \u001b[1;33m=\u001b[0m \u001b[0mint\u001b[0m\u001b[1;33m(\u001b[0m\u001b[0minput\u001b[0m\u001b[1;33m(\u001b[0m\u001b[1;34m\"ENTER THE BANK BALANCE: \"\u001b[0m\u001b[1;33m)\u001b[0m\u001b[1;33m)\u001b[0m\u001b[1;33m\u001b[0m\u001b[1;33m\u001b[0m\u001b[0m\n\u001b[0m\u001b[0;32m      6\u001b[0m \u001b[1;32mwhile\u001b[0m \u001b[0mbankBalance\u001b[0m\u001b[1;33m>=\u001b[0m\u001b[1;36m0\u001b[0m\u001b[1;33m:\u001b[0m\u001b[1;33m\u001b[0m\u001b[1;33m\u001b[0m\u001b[0m\n\u001b[0;32m      7\u001b[0m     \u001b[0mchoice\u001b[0m \u001b[1;33m=\u001b[0m \u001b[0minput\u001b[0m\u001b[1;33m(\u001b[0m\u001b[1;34m\"ENTER 'D' FOR DEPOSIT OR 'W' FOR WITHDRAW OR 'E' TO EXIT: \"\u001b[0m\u001b[1;33m)\u001b[0m\u001b[1;33m\u001b[0m\u001b[1;33m\u001b[0m\u001b[0m\n",
      "\u001b[1;32mC:\\ProgramData\\Anaconda3\\lib\\site-packages\\ipykernel\\kernelbase.py\u001b[0m in \u001b[0;36mraw_input\u001b[1;34m(self, prompt)\u001b[0m\n\u001b[0;32m    858\u001b[0m                 \u001b[1;34m\"raw_input was called, but this frontend does not support input requests.\"\u001b[0m\u001b[1;33m\u001b[0m\u001b[1;33m\u001b[0m\u001b[0m\n\u001b[0;32m    859\u001b[0m             )\n\u001b[1;32m--> 860\u001b[1;33m         return self._input_request(str(prompt),\n\u001b[0m\u001b[0;32m    861\u001b[0m             \u001b[0mself\u001b[0m\u001b[1;33m.\u001b[0m\u001b[0m_parent_ident\u001b[0m\u001b[1;33m,\u001b[0m\u001b[1;33m\u001b[0m\u001b[1;33m\u001b[0m\u001b[0m\n\u001b[0;32m    862\u001b[0m             \u001b[0mself\u001b[0m\u001b[1;33m.\u001b[0m\u001b[0m_parent_header\u001b[0m\u001b[1;33m,\u001b[0m\u001b[1;33m\u001b[0m\u001b[1;33m\u001b[0m\u001b[0m\n",
      "\u001b[1;32mC:\\ProgramData\\Anaconda3\\lib\\site-packages\\ipykernel\\kernelbase.py\u001b[0m in \u001b[0;36m_input_request\u001b[1;34m(self, prompt, ident, parent, password)\u001b[0m\n\u001b[0;32m    902\u001b[0m             \u001b[1;32mexcept\u001b[0m \u001b[0mKeyboardInterrupt\u001b[0m\u001b[1;33m:\u001b[0m\u001b[1;33m\u001b[0m\u001b[1;33m\u001b[0m\u001b[0m\n\u001b[0;32m    903\u001b[0m                 \u001b[1;31m# re-raise KeyboardInterrupt, to truncate traceback\u001b[0m\u001b[1;33m\u001b[0m\u001b[1;33m\u001b[0m\u001b[1;33m\u001b[0m\u001b[0m\n\u001b[1;32m--> 904\u001b[1;33m                 \u001b[1;32mraise\u001b[0m \u001b[0mKeyboardInterrupt\u001b[0m\u001b[1;33m(\u001b[0m\u001b[1;34m\"Interrupted by user\"\u001b[0m\u001b[1;33m)\u001b[0m \u001b[1;32mfrom\u001b[0m \u001b[1;32mNone\u001b[0m\u001b[1;33m\u001b[0m\u001b[1;33m\u001b[0m\u001b[0m\n\u001b[0m\u001b[0;32m    905\u001b[0m             \u001b[1;32mexcept\u001b[0m \u001b[0mException\u001b[0m \u001b[1;32mas\u001b[0m \u001b[0me\u001b[0m\u001b[1;33m:\u001b[0m\u001b[1;33m\u001b[0m\u001b[1;33m\u001b[0m\u001b[0m\n\u001b[0;32m    906\u001b[0m                 \u001b[0mself\u001b[0m\u001b[1;33m.\u001b[0m\u001b[0mlog\u001b[0m\u001b[1;33m.\u001b[0m\u001b[0mwarning\u001b[0m\u001b[1;33m(\u001b[0m\u001b[1;34m\"Invalid Message:\"\u001b[0m\u001b[1;33m,\u001b[0m \u001b[0mexc_info\u001b[0m\u001b[1;33m=\u001b[0m\u001b[1;32mTrue\u001b[0m\u001b[1;33m)\u001b[0m\u001b[1;33m\u001b[0m\u001b[1;33m\u001b[0m\u001b[0m\n",
      "\u001b[1;31mKeyboardInterrupt\u001b[0m: Interrupted by user"
     ]
    }
   ],
   "source": [
    "\"\"\"\n",
    "    WAP to compute net amount of bank account based on the transaction log from console input.\n",
    "\"\"\"\n",
    "\n",
    "bankBalance = int(input(\"ENTER THE BANK BALANCE: \"))\n",
    "while bankBalance>=0:\n",
    "    choice = input(\"ENTER 'D' FOR DEPOSIT OR 'W' FOR WITHDRAW OR 'E' TO EXIT: \")\n",
    "    if choice == \"W\" or choice == \"w\":\n",
    "        withdrawAmt = int(input(\"ENTER THE AMOUNT TO WITHDRAW: \"))\n",
    "        if withdrawAmt>bankBalance:\n",
    "            print(\"NOT ENOUGH AMOUNT TO WITHDRAW!!\")\n",
    "        else:\n",
    "            bankBalance-=withdrawAmt\n",
    "            print(f\"BANKBALNCE: {bankBalance}\")\n",
    "    elif choice == \"D\" or choice == \"d\":\n",
    "        depositAmt = int(input(\"ENTER THE AMOUNT TO DEPOSIT: \"))\n",
    "        if depositAmt <= 0:\n",
    "            print(\"INVALID AMOUNT TO DEPOSIT!!\")\n",
    "        else:\n",
    "            bankBalance += depositAmt\n",
    "            print(f\"BANKBALNCE: {bankBalance}\")\n",
    "    elif choice == \"E\" or choice == \"e\":\n",
    "        print(f\"BANKBALNCE: {bankBalance}\")\n",
    "        print(\"SYSTEM EXIT SUCCESSFULLY!!\")\n",
    "        break"
   ]
  },
  {
   "cell_type": "code",
   "execution_count": 10,
   "metadata": {},
   "outputs": [
    {
     "name": "stdout",
     "output_type": "stream",
     "text": [
      "ENTER UPPER RANGE NUBER TO FIND SUM: 2000\n",
      "-1000\n"
     ]
    }
   ],
   "source": [
    "upperRange = int(input(\"ENTER UPPER RANGE NUBER TO FIND SUM: \"))\n",
    "sumOfSeries = 0\n",
    "for i in range(1,upperRange+1):\n",
    "    if i%2!=0:\n",
    "        sumOfSeries+=i\n",
    "    else:\n",
    "        sumOfSeries-=i\n",
    "print(sumOfSeries)"
   ]
  },
  {
   "cell_type": "code",
   "execution_count": 12,
   "metadata": {},
   "outputs": [
    {
     "name": "stdout",
     "output_type": "stream",
     "text": [
      "ENTER LOWER RANGE: 1\n",
      "ENTER UPPER RANGE: 100\n",
      "2 6 12 20 30 42 56 72 90 "
     ]
    }
   ],
   "source": [
    "\"\"\"\n",
    "    CHRONIC NUMBERS:\n",
    "        it can be defined as the number which is the product of consecutive numbers.\n",
    "\"\"\"\n",
    "lowerRange = int(input(\"ENTER LOWER RANGE: \"))\n",
    "upperRange = int(input(\"ENTER UPPER RANGE: \"))\n",
    "for i in range(lowerRange, upperRange):\n",
    "    pro=i*(i+1)\n",
    "    if pro<=upperRange:\n",
    "        print(pro, end=\" \")"
   ]
  },
  {
   "cell_type": "code",
   "execution_count": 16,
   "metadata": {},
   "outputs": [
    {
     "name": "stdout",
     "output_type": "stream",
     "text": [
      "   /\\      /\\      /\\      /\\   \n",
      "  /  \\    /  \\    /  \\    /  \\  \n",
      " /    \\  /    \\  /    \\  /    \\ \n",
      "/      \\/      \\/      \\/      \\\n",
      "                                \n"
     ]
    }
   ],
   "source": [
    "\"\"\"\n",
    "   /\\      /\\\n",
    "  /  \\    /  \\\n",
    " /    \\  /    \\\n",
    "/      \\/      \\\n",
    "\"\"\"\n",
    "# height = int(input(\"ENTER HEIGHT: \"))\n",
    "# length = int(input(\"ENTER LENGTH\"))\n",
    "# for j in range(length):\n",
    "#     for i in range(height):\n",
    "#         for _ in range(height-i):\n",
    "#             print(\" \",end=\"\")\n",
    "#         print(\"/\",end=\"\")\n",
    "#         l=0\n",
    "#         for k in range(i*2):\n",
    "#             print(\" \",end=\"\")\n",
    "#         l = i\n",
    "#         if l==height-1:\n",
    "#             print(\"\\\\\")\n",
    "#         else: \n",
    "#             print(\"\\\\\")\n",
    "            \n",
    "wH = 4\n",
    "wL = 4\n",
    "pc = wH-1\n",
    "for x in range(0, wH+1):\n",
    "    for y in range(0, (wH*wL*2)):\n",
    "        if (y%(wH*2)==pc):\n",
    "            print(\"/\", end=\"\")\n",
    "        elif (y%(wH*2)==wH+x):\n",
    "            print(\"\\\\\",end=\"\")\n",
    "        else:\n",
    "            print(\" \",end=\"\")\n",
    "    pc -= 1\n",
    "    print()"
   ]
  },
  {
   "cell_type": "code",
   "execution_count": 31,
   "metadata": {},
   "outputs": [
    {
     "data": {
      "text/plain": [
       "'C:\\\\'"
      ]
     },
     "execution_count": 31,
     "metadata": {},
     "output_type": "execute_result"
    }
   ],
   "source": [
    "pwd"
   ]
  }
 ],
 "metadata": {
  "kernelspec": {
   "display_name": "Python 3",
   "language": "python",
   "name": "python3"
  },
  "language_info": {
   "codemirror_mode": {
    "name": "ipython",
    "version": 3
   },
   "file_extension": ".py",
   "mimetype": "text/x-python",
   "name": "python",
   "nbconvert_exporter": "python",
   "pygments_lexer": "ipython3",
   "version": "3.8.5"
  }
 },
 "nbformat": 4,
 "nbformat_minor": 4
}
